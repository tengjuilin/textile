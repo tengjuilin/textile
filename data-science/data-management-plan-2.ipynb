{
 "cells": [
  {
   "cell_type": "markdown",
   "metadata": {},
   "source": [
    "# Data Management Plan Part 2"
   ]
  },
  {
   "cell_type": "markdown",
   "metadata": {},
   "source": [
    "Purpose: To introduce trainees on the importance and creation of data management plans"
   ]
  },
  {
   "cell_type": "markdown",
   "metadata": {},
   "source": [
    "__Priming Activity:__"
   ]
  },
  {
   "cell_type": "markdown",
   "metadata": {},
   "source": [
    "You have just moved to a brand new apartment with 4 other roommates and are planning a big trip to the grocery store.  You have a list together, but then you realized that you need to do a space evaluation of how much you can actually buy and store for now."
   ]
  },
  {
   "cell_type": "markdown",
   "metadata": {},
   "source": [
    "Your grocery list is below:"
   ]
  },
  {
   "cell_type": "code",
   "execution_count": 25,
   "metadata": {},
   "outputs": [],
   "source": [
    "import pandas as pd\n",
    "data = [['cinnamon', '$4', 'spice'],['Chicken Breast', '$7', 'meat'], ['Wheat Bread', '$6', 'bread'],['Naan', '$4', 'bread'],['Red Pepper Flakes', '$5', 'spice'],\n",
    "        ['nutmeg', '$6', 'spice'], ['strawberries', '$6', 'fruit'], ['yogurt', '$5', 'dairy'], ['salmon fillets', '$11', 'meat'],\n",
    "       ['Italian seasoning', '$5', 'spice'], ['Almond milk', '$4', 'dairy'], ['Raisin Bran', '$3', 'cereal'], ['ice cream', '$3', 'dairy'], ['Frozen Broccoli', '$2', 'vegetables'],\n",
    "        ['spinach','$2','vegetables'],['eggs','$3','eggs'], ['Curry powder', '$5', 'spice'], ['hummus','$5','dips'], ['spaghetti noodles', '$2', 'grain'],\n",
    "       ['brown rice', '$2', 'grain'], ['Spaghetti Sauce', '$3', 'sauce'],['Potato Chips', '$3', 'snacks'], ['Dried Fruit', '$7', 'snacks'], ['Trail Mix', '$7', 'snacks'],\n",
    "       ['Frozen Pepporoni Pizza', '$4', 'pizza'], ['Frozen Vegan Gluten-Free Pizza', '$9', 'pizza']]"
   ]
  },
  {
   "cell_type": "code",
   "execution_count": 26,
   "metadata": {},
   "outputs": [
    {
     "data": {
      "text/html": [
       "<div>\n",
       "<style scoped>\n",
       "    .dataframe tbody tr th:only-of-type {\n",
       "        vertical-align: middle;\n",
       "    }\n",
       "\n",
       "    .dataframe tbody tr th {\n",
       "        vertical-align: top;\n",
       "    }\n",
       "\n",
       "    .dataframe thead th {\n",
       "        text-align: right;\n",
       "    }\n",
       "</style>\n",
       "<table border=\"1\" class=\"dataframe\">\n",
       "  <thead>\n",
       "    <tr style=\"text-align: right;\">\n",
       "      <th></th>\n",
       "      <th>price</th>\n",
       "      <th>item</th>\n",
       "      <th>category</th>\n",
       "    </tr>\n",
       "  </thead>\n",
       "  <tbody>\n",
       "    <tr>\n",
       "      <td>0</td>\n",
       "      <td>cinnamon</td>\n",
       "      <td>$4</td>\n",
       "      <td>spice</td>\n",
       "    </tr>\n",
       "    <tr>\n",
       "      <td>1</td>\n",
       "      <td>Chicken Breast</td>\n",
       "      <td>$7</td>\n",
       "      <td>meat</td>\n",
       "    </tr>\n",
       "    <tr>\n",
       "      <td>2</td>\n",
       "      <td>Wheat Bread</td>\n",
       "      <td>$6</td>\n",
       "      <td>bread</td>\n",
       "    </tr>\n",
       "    <tr>\n",
       "      <td>3</td>\n",
       "      <td>Naan</td>\n",
       "      <td>$4</td>\n",
       "      <td>bread</td>\n",
       "    </tr>\n",
       "    <tr>\n",
       "      <td>4</td>\n",
       "      <td>Red Pepper Flakes</td>\n",
       "      <td>$5</td>\n",
       "      <td>spice</td>\n",
       "    </tr>\n",
       "    <tr>\n",
       "      <td>5</td>\n",
       "      <td>nutmeg</td>\n",
       "      <td>$6</td>\n",
       "      <td>spice</td>\n",
       "    </tr>\n",
       "    <tr>\n",
       "      <td>6</td>\n",
       "      <td>strawberries</td>\n",
       "      <td>$6</td>\n",
       "      <td>fruit</td>\n",
       "    </tr>\n",
       "    <tr>\n",
       "      <td>7</td>\n",
       "      <td>yogurt</td>\n",
       "      <td>$5</td>\n",
       "      <td>dairy</td>\n",
       "    </tr>\n",
       "    <tr>\n",
       "      <td>8</td>\n",
       "      <td>salmon fillets</td>\n",
       "      <td>$11</td>\n",
       "      <td>meat</td>\n",
       "    </tr>\n",
       "    <tr>\n",
       "      <td>9</td>\n",
       "      <td>Italian seasoning</td>\n",
       "      <td>$5</td>\n",
       "      <td>spice</td>\n",
       "    </tr>\n",
       "    <tr>\n",
       "      <td>10</td>\n",
       "      <td>Almond milk</td>\n",
       "      <td>$4</td>\n",
       "      <td>dairy</td>\n",
       "    </tr>\n",
       "    <tr>\n",
       "      <td>11</td>\n",
       "      <td>Raisin Bran</td>\n",
       "      <td>$3</td>\n",
       "      <td>cereal</td>\n",
       "    </tr>\n",
       "    <tr>\n",
       "      <td>12</td>\n",
       "      <td>ice cream</td>\n",
       "      <td>$3</td>\n",
       "      <td>dairy</td>\n",
       "    </tr>\n",
       "    <tr>\n",
       "      <td>13</td>\n",
       "      <td>Frozen Broccoli</td>\n",
       "      <td>$2</td>\n",
       "      <td>vegetables</td>\n",
       "    </tr>\n",
       "    <tr>\n",
       "      <td>14</td>\n",
       "      <td>spinach</td>\n",
       "      <td>$2</td>\n",
       "      <td>vegetables</td>\n",
       "    </tr>\n",
       "    <tr>\n",
       "      <td>15</td>\n",
       "      <td>eggs</td>\n",
       "      <td>$3</td>\n",
       "      <td>eggs</td>\n",
       "    </tr>\n",
       "    <tr>\n",
       "      <td>16</td>\n",
       "      <td>Curry powder</td>\n",
       "      <td>$5</td>\n",
       "      <td>spice</td>\n",
       "    </tr>\n",
       "    <tr>\n",
       "      <td>17</td>\n",
       "      <td>hummus</td>\n",
       "      <td>$5</td>\n",
       "      <td>dips</td>\n",
       "    </tr>\n",
       "    <tr>\n",
       "      <td>18</td>\n",
       "      <td>spaghetti noodles</td>\n",
       "      <td>$2</td>\n",
       "      <td>grain</td>\n",
       "    </tr>\n",
       "    <tr>\n",
       "      <td>19</td>\n",
       "      <td>brown rice</td>\n",
       "      <td>$2</td>\n",
       "      <td>grain</td>\n",
       "    </tr>\n",
       "    <tr>\n",
       "      <td>20</td>\n",
       "      <td>Spaghetti Sauce</td>\n",
       "      <td>$3</td>\n",
       "      <td>sauce</td>\n",
       "    </tr>\n",
       "    <tr>\n",
       "      <td>21</td>\n",
       "      <td>Potato Chips</td>\n",
       "      <td>$3</td>\n",
       "      <td>snacks</td>\n",
       "    </tr>\n",
       "    <tr>\n",
       "      <td>22</td>\n",
       "      <td>Dried Fruit</td>\n",
       "      <td>$7</td>\n",
       "      <td>snacks</td>\n",
       "    </tr>\n",
       "    <tr>\n",
       "      <td>23</td>\n",
       "      <td>Trail Mix</td>\n",
       "      <td>$7</td>\n",
       "      <td>snacks</td>\n",
       "    </tr>\n",
       "    <tr>\n",
       "      <td>24</td>\n",
       "      <td>Frozen Pepporoni Pizza</td>\n",
       "      <td>$4</td>\n",
       "      <td>pizza</td>\n",
       "    </tr>\n",
       "    <tr>\n",
       "      <td>25</td>\n",
       "      <td>Frozen Vegan Gluten-Free Pizza</td>\n",
       "      <td>$9</td>\n",
       "      <td>pizza</td>\n",
       "    </tr>\n",
       "  </tbody>\n",
       "</table>\n",
       "</div>"
      ],
      "text/plain": [
       "                             price item    category\n",
       "0                         cinnamon   $4       spice\n",
       "1                   Chicken Breast   $7        meat\n",
       "2                      Wheat Bread   $6       bread\n",
       "3                             Naan   $4       bread\n",
       "4                Red Pepper Flakes   $5       spice\n",
       "5                           nutmeg   $6       spice\n",
       "6                     strawberries   $6       fruit\n",
       "7                           yogurt   $5       dairy\n",
       "8                   salmon fillets  $11        meat\n",
       "9                Italian seasoning   $5       spice\n",
       "10                     Almond milk   $4       dairy\n",
       "11                     Raisin Bran   $3      cereal\n",
       "12                       ice cream   $3       dairy\n",
       "13                 Frozen Broccoli   $2  vegetables\n",
       "14                         spinach   $2  vegetables\n",
       "15                            eggs   $3        eggs\n",
       "16                    Curry powder   $5       spice\n",
       "17                          hummus   $5        dips\n",
       "18               spaghetti noodles   $2       grain\n",
       "19                      brown rice   $2       grain\n",
       "20                 Spaghetti Sauce   $3       sauce\n",
       "21                    Potato Chips   $3      snacks\n",
       "22                     Dried Fruit   $7      snacks\n",
       "23                       Trail Mix   $7      snacks\n",
       "24          Frozen Pepporoni Pizza   $4       pizza\n",
       "25  Frozen Vegan Gluten-Free Pizza   $9       pizza"
      ]
     },
     "execution_count": 26,
     "metadata": {},
     "output_type": "execute_result"
    }
   ],
   "source": [
    "grocery_list = pd.DataFrame(data, index=None, columns={'item', 'price', 'category'})\n",
    "grocery_list"
   ]
  },
  {
   "cell_type": "markdown",
   "metadata": {},
   "source": [
    "Your Storage Space is listed below:"
   ]
  },
  {
   "cell_type": "code",
   "execution_count": 8,
   "metadata": {},
   "outputs": [],
   "source": [
    "datas = [['spice rack', '3'],['fridge', '5'], ['freezer', '3'],['cuboard', '5']]"
   ]
  },
  {
   "cell_type": "code",
   "execution_count": 9,
   "metadata": {},
   "outputs": [
    {
     "data": {
      "text/html": [
       "<div>\n",
       "<style scoped>\n",
       "    .dataframe tbody tr th:only-of-type {\n",
       "        vertical-align: middle;\n",
       "    }\n",
       "\n",
       "    .dataframe tbody tr th {\n",
       "        vertical-align: top;\n",
       "    }\n",
       "\n",
       "    .dataframe thead th {\n",
       "        text-align: right;\n",
       "    }\n",
       "</style>\n",
       "<table border=\"1\" class=\"dataframe\">\n",
       "  <thead>\n",
       "    <tr style=\"text-align: right;\">\n",
       "      <th></th>\n",
       "      <th>location</th>\n",
       "      <th># of items it can hold</th>\n",
       "    </tr>\n",
       "  </thead>\n",
       "  <tbody>\n",
       "    <tr>\n",
       "      <td>0</td>\n",
       "      <td>spice rack</td>\n",
       "      <td>3</td>\n",
       "    </tr>\n",
       "    <tr>\n",
       "      <td>1</td>\n",
       "      <td>fridge</td>\n",
       "      <td>5</td>\n",
       "    </tr>\n",
       "    <tr>\n",
       "      <td>2</td>\n",
       "      <td>freezer</td>\n",
       "      <td>3</td>\n",
       "    </tr>\n",
       "    <tr>\n",
       "      <td>3</td>\n",
       "      <td>cuboard</td>\n",
       "      <td>5</td>\n",
       "    </tr>\n",
       "  </tbody>\n",
       "</table>\n",
       "</div>"
      ],
      "text/plain": [
       "     location # of items it can hold\n",
       "0  spice rack                      3\n",
       "1      fridge                      5\n",
       "2     freezer                      3\n",
       "3     cuboard                      5"
      ]
     },
     "execution_count": 9,
     "metadata": {},
     "output_type": "execute_result"
    }
   ],
   "source": [
    "storage_space = pd.DataFrame(datas, index=None, columns={'location', '# of items it can hold'})\n",
    "storage_space"
   ]
  },
  {
   "cell_type": "markdown",
   "metadata": {},
   "source": [
    "_Questions:_"
   ]
  },
  {
   "cell_type": "markdown",
   "metadata": {},
   "source": [
    "Do you buy all of the groceries?"
   ]
  },
  {
   "cell_type": "code",
   "execution_count": null,
   "metadata": {},
   "outputs": [],
   "source": []
  },
  {
   "cell_type": "markdown",
   "metadata": {},
   "source": [
    "Where do you put all of your groceries?"
   ]
  },
  {
   "cell_type": "code",
   "execution_count": null,
   "metadata": {},
   "outputs": [],
   "source": []
  },
  {
   "cell_type": "markdown",
   "metadata": {},
   "source": [
    "How did taking into consideration space change your grocery decisions?"
   ]
  },
  {
   "cell_type": "code",
   "execution_count": null,
   "metadata": {},
   "outputs": [],
   "source": []
  },
  {
   "cell_type": "markdown",
   "metadata": {},
   "source": [
    "You only have $50 to spend? How does this change your decision?"
   ]
  },
  {
   "cell_type": "code",
   "execution_count": null,
   "metadata": {},
   "outputs": [],
   "source": []
  },
  {
   "cell_type": "markdown",
   "metadata": {},
   "source": [
    "__Activity:__"
   ]
  },
  {
   "cell_type": "markdown",
   "metadata": {},
   "source": [
    "Imagine that the grocery items above are actually your experimental data. "
   ]
  },
  {
   "cell_type": "markdown",
   "metadata": {},
   "source": [
    "You have to have an understanding of what category that data belongs to so that you can properly store it in the type place. "
   ]
  },
  {
   "cell_type": "markdown",
   "metadata": {},
   "source": [
    "Often with data storage comes a cost as well especially if you are using cloud services or computing!"
   ]
  },
  {
   "cell_type": "markdown",
   "metadata": {},
   "source": [
    "_List five different types of data with have in the lab:_"
   ]
  },
  {
   "cell_type": "code",
   "execution_count": null,
   "metadata": {},
   "outputs": [],
   "source": []
  },
  {
   "cell_type": "markdown",
   "metadata": {},
   "source": [
    "_For each type of data above, list where you think it would be best stored:_"
   ]
  },
  {
   "cell_type": "code",
   "execution_count": null,
   "metadata": {},
   "outputs": [],
   "source": []
  },
  {
   "cell_type": "markdown",
   "metadata": {},
   "source": [
    "_For each storage location used, provide an approximate cost for storing the data there:_"
   ]
  },
  {
   "cell_type": "code",
   "execution_count": null,
   "metadata": {},
   "outputs": [],
   "source": []
  },
  {
   "cell_type": "markdown",
   "metadata": {},
   "source": [
    "_For each data storage location think about how accesible it is to others? (both good others and bad others):_"
   ]
  },
  {
   "cell_type": "code",
   "execution_count": null,
   "metadata": {},
   "outputs": [],
   "source": []
  },
  {
   "cell_type": "markdown",
   "metadata": {},
   "source": [
    "_If you were to complete an experiment, when do you think would be the best time to make these decisions?_"
   ]
  },
  {
   "cell_type": "code",
   "execution_count": null,
   "metadata": {},
   "outputs": [],
   "source": []
  },
  {
   "cell_type": "markdown",
   "metadata": {},
   "source": [
    "__Recall & Share__"
   ]
  },
  {
   "cell_type": "markdown",
   "metadata": {},
   "source": [
    "Assume you collected and stored some experimental data according to your answers from the activity.  \n",
    "\n",
    "If you were to revisit this data 6 months and then a year later, how would you remember where and why you stored your data there? \n",
    "\n",
    "How would you remember important details about that data and experiment?"
   ]
  },
  {
   "cell_type": "markdown",
   "metadata": {},
   "source": [
    "_Be prepared to share these answers with the group :)_"
   ]
  },
  {
   "cell_type": "code",
   "execution_count": null,
   "metadata": {},
   "outputs": [],
   "source": []
  }
 ],
 "metadata": {
  "kernelspec": {
   "display_name": "Python 3",
   "language": "python",
   "name": "python3"
  },
  "language_info": {
   "codemirror_mode": {
    "name": "ipython",
    "version": 3
   },
   "file_extension": ".py",
   "mimetype": "text/x-python",
   "name": "python",
   "nbconvert_exporter": "python",
   "pygments_lexer": "ipython3",
   "version": "3.8.8"
  }
 },
 "nbformat": 4,
 "nbformat_minor": 4
}
