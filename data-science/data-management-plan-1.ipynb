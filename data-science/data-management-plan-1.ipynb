{
 "cells": [
  {
   "cell_type": "markdown",
   "metadata": {},
   "source": [
    "# Data Management Plan Part 1"
   ]
  },
  {
   "cell_type": "markdown",
   "metadata": {},
   "source": [
    "### Purpose: To introduce trainees to the concept and importance of Data Management"
   ]
  },
  {
   "cell_type": "markdown",
   "metadata": {},
   "source": [
    "__Priming Activity:__"
   ]
  },
  {
   "cell_type": "markdown",
   "metadata": {},
   "source": [
    "Watch this short 5 minute video about Research Data Management Plans: https://www.youtube.com/watch?v=gYDb-GP1CA4"
   ]
  },
  {
   "cell_type": "markdown",
   "metadata": {},
   "source": [
    "Answer the following questions:\n",
    "1. What is Data Management?\n",
    "2. Why is it important?"
   ]
  },
  {
   "cell_type": "markdown",
   "metadata": {},
   "source": [
    "__Activity:__"
   ]
  },
  {
   "cell_type": "markdown",
   "metadata": {},
   "source": [
    "*Part 1: Preliminary Data Management Planning for Your Own Experiment*"
   ]
  },
  {
   "cell_type": "markdown",
   "metadata": {},
   "source": [
    "NOTICE: I AM NOT ENDORSING EXCESSIVE CAFFEINE CONSUMPTION. PLEASE CAFFEINATE RESPONSIBLY"
   ]
  },
  {
   "cell_type": "markdown",
   "metadata": {},
   "source": [
    "It is one of your duties to make coffee every morning for the lab. You don't mind the task. And you usually get to go back for a few more cups throughout the day. But recently not only have __you__ not been able to get any coffee, but your lab mates have been complaining to you that the coffee machine is __always__ empty. \n",
    "\n",
    "So you have just decided to start a new research experiment on the behavior of your lab mates. \n",
    "\n",
    "Your hypothesis is that one of your lab mates has been pouring the coffee down the sink every morning because of a few signs of evidence:\n",
    "(1) The coffee cup stack has not been decreasing\n",
    "(2) The faint smell of coffee has been lingering on the bathroom sink\n",
    "(3) You are tired because of your lack of afternoon caffeine"
   ]
  },
  {
   "cell_type": "markdown",
   "metadata": {},
   "source": [
    "*Part 1a: Identify the variables you want to study*"
   ]
  },
  {
   "cell_type": "markdown",
   "metadata": {},
   "source": [
    "In the box below identify the variables that you want to study to figure out if your hypothesis is correct (including any unknown information). Also identify what type of data it is (https://blog.minitab.com/blog/understanding-statistics/understanding-qualitative-quantitative-attribute-discrete-and-continuous-data-types)"
   ]
  },
  {
   "cell_type": "code",
   "execution_count": null,
   "metadata": {},
   "outputs": [],
   "source": []
  },
  {
   "cell_type": "markdown",
   "metadata": {},
   "source": [
    "*Part 1b: Identify where and how you will keep track of this information*"
   ]
  },
  {
   "cell_type": "markdown",
   "metadata": {},
   "source": [
    "In the box below identify how you are going to keep track of this information. i.e. excel, notebook, pen and paper\n",
    "\n",
    "Your desk is around the corner from the breakroom so you can see whoever enters and exists the building, but cannot naturally watch the machine 24/7 since you still have a job to do."
   ]
  },
  {
   "cell_type": "code",
   "execution_count": null,
   "metadata": {},
   "outputs": [],
   "source": []
  },
  {
   "cell_type": "markdown",
   "metadata": {},
   "source": [
    "*Part 2c: Identify if you are going to share this data with anyone*"
   ]
  },
  {
   "cell_type": "code",
   "execution_count": null,
   "metadata": {},
   "outputs": [],
   "source": []
  },
  {
   "cell_type": "markdown",
   "metadata": {},
   "source": [
    "*Part 2d: Identify any final graphs/figures you would need to support your hypothesis*"
   ]
  },
  {
   "cell_type": "code",
   "execution_count": null,
   "metadata": {},
   "outputs": [],
   "source": []
  },
  {
   "cell_type": "markdown",
   "metadata": {},
   "source": [
    "*Part 2e: If this problem occurs again in another year, will someone be able to take your data and figure out who the culprit is?*"
   ]
  },
  {
   "cell_type": "code",
   "execution_count": null,
   "metadata": {},
   "outputs": [],
   "source": []
  },
  {
   "cell_type": "markdown",
   "metadata": {},
   "source": [
    "Will they be able to follow your methods to search for a new culprit?"
   ]
  },
  {
   "cell_type": "code",
   "execution_count": null,
   "metadata": {},
   "outputs": [],
   "source": []
  },
  {
   "cell_type": "markdown",
   "metadata": {},
   "source": [
    "*Part 2f: Plan Draft 2*"
   ]
  },
  {
   "cell_type": "markdown",
   "metadata": {},
   "source": [
    "Go back through the above steps and account for things you may have missed during the first pass including but not limited to (your lab mates work schedules, alternative hypothesis, and the security of your data)\n",
    "\n",
    "Include at least three things outside of this list that you didn't think of before"
   ]
  },
  {
   "cell_type": "code",
   "execution_count": null,
   "metadata": {},
   "outputs": [],
   "source": []
  },
  {
   "cell_type": "markdown",
   "metadata": {},
   "source": [
    "__Recall & Share:__ (This part of the activity will be shared with the group during the next module)"
   ]
  },
  {
   "cell_type": "markdown",
   "metadata": {},
   "source": [
    "Answer the following 2 questions below and be prepared to share them with the group during our next module\n",
    "1. Do you feel prepared to run and manage an experiment about the coffee culprit? \n",
    "2. How much did part 2f affect your overall plan? "
   ]
  },
  {
   "cell_type": "code",
   "execution_count": null,
   "metadata": {},
   "outputs": [],
   "source": []
  },
  {
   "cell_type": "code",
   "execution_count": null,
   "metadata": {},
   "outputs": [],
   "source": []
  }
 ],
 "metadata": {
  "kernelspec": {
   "display_name": "Python 3",
   "language": "python",
   "name": "python3"
  },
  "language_info": {
   "codemirror_mode": {
    "name": "ipython",
    "version": 3
   },
   "file_extension": ".py",
   "mimetype": "text/x-python",
   "name": "python",
   "nbconvert_exporter": "python",
   "pygments_lexer": "ipython3",
   "version": "3.8.8"
  }
 },
 "nbformat": 4,
 "nbformat_minor": 4
}
