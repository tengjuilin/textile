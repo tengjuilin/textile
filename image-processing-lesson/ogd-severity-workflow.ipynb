{
 "cells": [
  {
   "cell_type": "markdown",
   "metadata": {},
   "source": [
    "# OGD Severity Analysis Workflow"
   ]
  },
  {
   "cell_type": "markdown",
   "metadata": {},
   "source": [
    "### Purpose: To provide a workflow for Nance Lab UGs to analyze images from the OGD Severity Paper"
   ]
  },
  {
   "cell_type": "markdown",
   "metadata": {},
   "source": [
    "Created by: Hawley Helmbrecht"
   ]
  },
  {
   "cell_type": "markdown",
   "metadata": {},
   "source": [
    "Creation Date: 11/16/2020"
   ]
  },
  {
   "cell_type": "markdown",
   "metadata": {},
   "source": [
    "Last Update: 12/4/2020 by Hawley Helmbrecht"
   ]
  },
  {
   "cell_type": "markdown",
   "metadata": {},
   "source": [
    "[![Binder](https://mybinder.org/badge_logo.svg)](https://mybinder.org/v2/gh/Nance-Lab/textile/master?filepath=modules%2FOGD_Severity_UG_Flow.ipynb)"
   ]
  },
  {
   "cell_type": "markdown",
   "metadata": {},
   "source": [
    "*Step 1: Import Necessary Packages*"
   ]
  },
  {
   "cell_type": "code",
   "execution_count": 97,
   "metadata": {},
   "outputs": [],
   "source": [
    "import numpy as np\n",
    "import pandas as pd\n",
    "from scipy import ndimage\n",
    "\n",
    "import skimage.filters\n",
    "from skimage import morphology\n",
    "from skimage.measure import label, regionprops, regionprops_table\n",
    "from skimage.color import label2rgb\n",
    "from skimage import io\n",
    "from skimage import measure \n",
    "\n",
    "import wget\n",
    "from urllib.request import HTTPError"
   ]
  },
  {
   "cell_type": "markdown",
   "metadata": {},
   "source": [
    "*Step 2: Define User Inputs*"
   ]
  },
  {
   "cell_type": "markdown",
   "metadata": {},
   "source": [
    "For this workflow you need to get the csv's of feature images folder by folder. So for each folder in the zipped file sent to you, copy in your correct folder location as a string into the folder location variable.  Remember, this provided formatting is for a Mac computer. Alter your folder location accordingly to how we learned over the summer based on your operating system\n",
    "\n",
    "Then adjust the csv_name variable to the name would like this csv named as. I have used the name of the treatment group"
   ]
  },
  {
   "cell_type": "markdown",
   "metadata": {},
   "source": [
    "You will not need to adjust the file_type_init and file_type_new variables"
   ]
  },
  {
   "cell_type": "code",
   "execution_count": 3,
   "metadata": {},
   "outputs": [],
   "source": [
    "#replace the example path from my computer with the path to the image on your computer\n",
    "\n",
    "zenodo_url = 'https://zenodo.org/record/4302580/files/'"
   ]
  },
  {
   "cell_type": "markdown",
   "metadata": {},
   "source": [
    "Note: The cell images being read in are from the OGD Severity study by Rick Liao, Andrea Joseph, Mengying Zhang, Mike McKenna, Jeremy Filteau, and Hawley Helmbrecht within the Nance lab. It is an image taken from the thalamus with a costain DAPI/PI/Iba"
   ]
  },
  {
   "cell_type": "code",
   "execution_count": 4,
   "metadata": {},
   "outputs": [],
   "source": [
    "folder_location = ''\n",
    "\n",
    "csv_name = 'xyz.csv'\n",
    "\n",
    "file_type_init = '.tif'\n",
    "file_type_new = '.png'"
   ]
  },
  {
   "cell_type": "markdown",
   "metadata": {},
   "source": [
    "*Step X: Defining treatment groups by  slice id*"
   ]
  },
  {
   "cell_type": "code",
   "execution_count": 5,
   "metadata": {},
   "outputs": [],
   "source": [
    "nontreated_control = ['4-50-4', '4-50-7', '4-50-10', '4-50-15']\n",
    "ogd05hrs = ['4-56-1', '4-56-2', '4-56-3', '4-56-4', '4-56-5']\n",
    "ogd15hrs = ['4-56-6', '4-56-7', '4-56-8', '4-56-9', '4-56-10']\n",
    "ogd3hrs = ['4-50-1' '4-50-5', '4-50-6', '4-50-12', '4-50-14']\n",
    "ogd15hrsAZO = ['4-59-1', '4-59-2', '4-59-3', '4-59-4']\n",
    "ogd3hrsSOD = ['4-50-2', '4-50-8', '4-50-9', '4-50-11', '4-50-13']\n",
    "\n",
    "\n",
    "treatment_groups = [nontreated_control, ogd05hrs, ogd15hrs, ogd3hrs, ogd15hrsAZO, ogd3hrsSOD]\n",
    "\n",
    "zoom = '40x'\n",
    "\n",
    "regions_list = ['cortex', 'hippocampus', 'thalamus']\n",
    "\n",
    "image_number = np.arange(1,6)"
   ]
  },
  {
   "cell_type": "markdown",
   "metadata": {},
   "source": [
    "*Step X: Creating a File List from treatment groups and pup numbers*"
   ]
  },
  {
   "cell_type": "code",
   "execution_count": 6,
   "metadata": {},
   "outputs": [],
   "source": [
    "ntc_file_list = []\n",
    "ogd05hr_file_list = []\n",
    "ogd15hr_file_list = []\n",
    "ogd3hr_file_list = []\n",
    "ogd15hrsAZO_file_list = []\n",
    "ogd3hrsSOD_file_list = []\n",
    "\n",
    "\n",
    "for slices in nontreated_control:\n",
    "    for regions in regions_list:\n",
    "        for count in image_number:\n",
    "            ntc_file_name = str(slices + '_' + zoom + '_' + regions + '_' +  str(count) + '.tif')\n",
    "            ntc_file_list.append(ntc_file_name)\n",
    "            \n",
    "for slices in ogd05hrs:\n",
    "    for regions in regions_list:\n",
    "        for count in image_number:\n",
    "            ogd05hr_file_name = str(slices + '_' + zoom + '_' + regions + '_' +  str(count) + '.tif')\n",
    "            ogd05hr_file_list.append(ogd05hr_file_name)\n",
    "            \n",
    "for slices in ogd15hrs:\n",
    "    for regions in regions_list:\n",
    "        for count in image_number:\n",
    "            ogd15hr_file_name = str(slices + '_' + zoom + '_' + regions + '_' +  str(count) + '.tif')\n",
    "            ogd15hr_file_list.append(ogd15hr_file_name)\n",
    "            \n",
    "for slices in ogd3hrs:\n",
    "    for regions in regions_list:\n",
    "        for count in image_number:\n",
    "            ogd3hr_file_name = str(slices + '_' + zoom + '_' + regions + '_' +  str(count) + '.tif')\n",
    "            ogd3hr_file_list.append(ogd3hr_file_name)\n",
    "\n",
    "for slices in ogd15hrsAZO:\n",
    "    for regions in regions_list:\n",
    "        for count in image_number:\n",
    "            ogd15hrsAZO_file_name = str(slices + '_' + zoom + '_' + regions + '_' +  str(count) + '.tif')\n",
    "            ogd15hrsAZO_file_list.append(ogd15hrsAZO_file_name)\n",
    "\n",
    "for slices in ogd3hrsSOD:\n",
    "    for regions in regions_list:\n",
    "        for count in image_number:\n",
    "            ogd3hrsSOD_file_name = str(slices + '_' + zoom + '_' + regions + '_' +  str(count) + '.tif')\n",
    "            ogd3hrsSOD_file_list.append(ogd3hrsSOD_file_name)"
   ]
  },
  {
   "cell_type": "code",
   "execution_count": 7,
   "metadata": {},
   "outputs": [],
   "source": [
    "treatment_groups_file_lists = [ntc_file_list, ogd05hr_file_list, ogd15hr_file_list, ogd3hr_file_list, ogd15hrsAZO_file_list, ogd3hrsSOD_file_list]"
   ]
  },
  {
   "cell_type": "markdown",
   "metadata": {},
   "source": [
    "# Only Run the following cell if you do not already have all the files downloaded and placed into the 'images' file in this directory"
   ]
  },
  {
   "cell_type": "code",
   "execution_count": null,
   "metadata": {},
   "outputs": [],
   "source": [
    "for file_lists in treatment_groups_file_lists:\n",
    "    for names in file_lists:\n",
    "        try:\n",
    "            wget.download(zenodo_url + names + '?download=1', './' + names)\n",
    "        \n",
    "        except HTTPError:\n",
    "            continue\n",
    "    print('treatment group download succesful')"
   ]
  },
  {
   "cell_type": "markdown",
   "metadata": {},
   "source": [
    "*Step 3: The Code*"
   ]
  },
  {
   "cell_type": "markdown",
   "metadata": {},
   "source": [
    "#Defines a function that cleans the folder input of any files excpet the ones of the type we want\n",
    "\n",
    "def folder_cleaner(folder, image_type):\n",
    "    k=0\n",
    "    for files in folder:\n",
    "        if image_type in str(files):\n",
    "            k+=1\n",
    "        else:\n",
    "            folder = np.delete(folder, np.argwhere(folder == str(files)))\n",
    "    return folder"
   ]
  },
  {
   "cell_type": "markdown",
   "metadata": {},
   "source": [
    "#Obtains the list of image names that the processing needs to be performed on\n",
    "\n",
    "arr = os.listdir(folder_location)\n",
    "file_list = np.asarray(arr)\n",
    "file_list = folder_cleaner(file_list, file_type_init)"
   ]
  },
  {
   "cell_type": "markdown",
   "metadata": {},
   "source": [
    "*Step 4: Getting Shape Features for our Images*"
   ]
  },
  {
   "cell_type": "markdown",
   "metadata": {},
   "source": [
    "Here you will need to add your specific shape features into the Properties section in the props variable. Make sure the names are exactly as shown in the documentation for region props and as a string separated by commas"
   ]
  },
  {
   "cell_type": "markdown",
   "metadata": {},
   "source": [
    "# If already downloaded images place them in a folder named ogdimages within your Downloads directory"
   ]
  },
  {
   "cell_type": "code",
   "execution_count": 15,
   "metadata": {},
   "outputs": [],
   "source": [
    "properties_list = ('area', 'bbox', 'bbox_area', 'centroid', 'convex_area', 'eccentricity', 'equivalent_diameter', 'euler_number', 'extent', 'filled_area', 'label', 'major_axis_length', 'minor_axis_length', 'moments', 'moments_central', 'moments_hu', 'moments_normalized', 'orientation', 'perimeter', 'solidity')\n"
   ]
  },
  {
   "cell_type": "code",
   "execution_count": 39,
   "metadata": {},
   "outputs": [],
   "source": [
    "j = 0\n",
    "for file_lists in treatment_groups_file_lists:\n",
    "    for names in file_lists:\n",
    "        \n",
    "        try:\n",
    "            cell_im_location = str('./ogdimages/' + names)\n",
    "            cell_im = io.imread(cell_im_location)\n",
    "            blue_cell_im = cell_im[:,:, 1]\n",
    "            green_cell_im = cell_im[:,:,0]\n",
    "            thresh_otsu = skimage.filters.threshold_otsu(green_cell_im)\n",
    "            binary_otsu = green_cell_im > thresh_otsu\n",
    "            new_binary_otsu = morphology.remove_small_objects(binary_otsu, min_size=64)\n",
    "            label_image = label(new_binary_otsu)\n",
    "            new_binary_otsu = ndimage.binary_fill_holes(new_binary_otsu)\n",
    "            label_image = label(new_binary_otsu)\n",
    "            image_label_overlay = label2rgb(label_image, image=new_binary_otsu, bg_label=0)\n",
    "\n",
    "            #Insert your features here where the current red features are. You may want more features than what I told you to explore. \n",
    "            #Feel free to add them here as well. The computational time is pretty efficient\n",
    "            props = measure.regionprops_table(label_image, properties=(properties_list))\n",
    "\n",
    "            if j == 0:\n",
    "                df = pd.DataFrame(props)\n",
    "                df['filename'] = names\n",
    "            else:\n",
    "                df2 = pd.DataFrame(props)\n",
    "                df2['filename'] = names\n",
    "                df = df.append(df2)\n",
    "            \n",
    "        except FileNotFoundError:\n",
    "            continue\n",
    "\n",
    "        j = 1"
   ]
  },
  {
   "cell_type": "code",
   "execution_count": 59,
   "metadata": {},
   "outputs": [
    {
     "data": {
      "text/plain": [
       "36087"
      ]
     },
     "execution_count": 59,
     "metadata": {},
     "output_type": "execute_result"
    }
   ],
   "source": []
  },
  {
   "cell_type": "code",
   "execution_count": 77,
   "metadata": {},
   "outputs": [],
   "source": [
    "#Adding in Additional metadata\n",
    "df['pup_sex'] = 'male'\n",
    "df['pup_age'] = 'p14'\n",
    "df['pup_id'] = df.filename.str[:7]\n",
    "\n",
    "#Getting rid of the underscore after single digit pup ids\n",
    "for rows in range(df.shape[0]):\n",
    "    pup_id_value = df.iloc[rows]['pup_id']\n",
    "    if pup_id_value.endswith('_') == True:\n",
    "        df['pup_id'] = df['pup_id'].replace([pup_id_value],pup_id_value[:6])\n",
    "    else: \n",
    "        pass"
   ]
  },
  {
   "cell_type": "code",
   "execution_count": 93,
   "metadata": {},
   "outputs": [],
   "source": [
    "#Getting Treatment Groups for pup_ids associated with cell features\n",
    "df['treatment_group'] = df['pup_id']\n",
    "for rows in range(df.shape[0]):\n",
    "    pup_id_value = df.iloc[rows]['pup_id']\n",
    "    if pup_id_value in ogd05hrs:\n",
    "        df['treatment_group'] = df['treatment_group'].replace([pup_id_value], 'ogd 0.5 hours')\n",
    "    elif pup_id_value in ogd15hrs:\n",
    "        df['treatment_group'] = df['treatment_group'].replace([pup_id_value], 'ogd 1.5 hours')\n",
    "    elif pup_id_value in ogd3hrs:\n",
    "        df['treatment_group'] = df['treatment_group'].replace([pup_id_value], 'ogd 3 hours')\n",
    "    elif pup_id_value in ogd15hrsAZO:\n",
    "        df['treatment_group'] = df['treatment_group'].replace([pup_id_value], 'ogd 1.5 hours + AZO')\n",
    "    elif pup_id_value in ogd3hrsSOD:\n",
    "        df['treatment_group'] = df['treatment_group'].replace([pup_id_value], 'ogd 3 hours + SOD')\n",
    "    else:\n",
    "        df['treatment_group'] = df['treatment_group'].replace([pup_id_value], 'non-treated control')"
   ]
  },
  {
   "cell_type": "code",
   "execution_count": null,
   "metadata": {},
   "outputs": [
    {
     "data": {
      "text/html": [
       "<div>\n",
       "<style scoped>\n",
       "    .dataframe tbody tr th:only-of-type {\n",
       "        vertical-align: middle;\n",
       "    }\n",
       "\n",
       "    .dataframe tbody tr th {\n",
       "        vertical-align: top;\n",
       "    }\n",
       "\n",
       "    .dataframe thead th {\n",
       "        text-align: right;\n",
       "    }\n",
       "</style>\n",
       "<table border=\"1\" class=\"dataframe\">\n",
       "  <thead>\n",
       "    <tr style=\"text-align: right;\">\n",
       "      <th></th>\n",
       "      <th>area</th>\n",
       "      <th>bbox-0</th>\n",
       "      <th>bbox-1</th>\n",
       "      <th>bbox-2</th>\n",
       "      <th>bbox-3</th>\n",
       "      <th>bbox_area</th>\n",
       "      <th>centroid-0</th>\n",
       "      <th>centroid-1</th>\n",
       "      <th>convex_area</th>\n",
       "      <th>eccentricity</th>\n",
       "      <th>...</th>\n",
       "      <th>moments_normalized-3-2</th>\n",
       "      <th>moments_normalized-3-3</th>\n",
       "      <th>orientation</th>\n",
       "      <th>perimeter</th>\n",
       "      <th>solidity</th>\n",
       "      <th>filename</th>\n",
       "      <th>pup_sex</th>\n",
       "      <th>pup_age</th>\n",
       "      <th>pup_id</th>\n",
       "      <th>treatment_group</th>\n",
       "    </tr>\n",
       "  </thead>\n",
       "  <tbody>\n",
       "    <tr>\n",
       "      <td>0</td>\n",
       "      <td>82</td>\n",
       "      <td>0</td>\n",
       "      <td>59</td>\n",
       "      <td>14</td>\n",
       "      <td>69</td>\n",
       "      <td>140</td>\n",
       "      <td>5.280488</td>\n",
       "      <td>63.548780</td>\n",
       "      <td>121</td>\n",
       "      <td>0.824525</td>\n",
       "      <td>...</td>\n",
       "      <td>0.001036</td>\n",
       "      <td>0.001296</td>\n",
       "      <td>0.193280</td>\n",
       "      <td>47.834524</td>\n",
       "      <td>0.677686</td>\n",
       "      <td>4-50-4_40x_cortex_1.tif</td>\n",
       "      <td>male</td>\n",
       "      <td>p14</td>\n",
       "      <td>4-50-4</td>\n",
       "      <td>non-treated control</td>\n",
       "    </tr>\n",
       "    <tr>\n",
       "      <td>1</td>\n",
       "      <td>120</td>\n",
       "      <td>0</td>\n",
       "      <td>94</td>\n",
       "      <td>15</td>\n",
       "      <td>106</td>\n",
       "      <td>180</td>\n",
       "      <td>7.741667</td>\n",
       "      <td>99.516667</td>\n",
       "      <td>143</td>\n",
       "      <td>0.639168</td>\n",
       "      <td>...</td>\n",
       "      <td>-0.000616</td>\n",
       "      <td>-0.000443</td>\n",
       "      <td>-0.341689</td>\n",
       "      <td>48.384776</td>\n",
       "      <td>0.839161</td>\n",
       "      <td>4-50-4_40x_cortex_1.tif</td>\n",
       "      <td>male</td>\n",
       "      <td>p14</td>\n",
       "      <td>4-50-4</td>\n",
       "      <td>non-treated control</td>\n",
       "    </tr>\n",
       "    <tr>\n",
       "      <td>2</td>\n",
       "      <td>73</td>\n",
       "      <td>0</td>\n",
       "      <td>246</td>\n",
       "      <td>9</td>\n",
       "      <td>259</td>\n",
       "      <td>117</td>\n",
       "      <td>3.397260</td>\n",
       "      <td>250.849315</td>\n",
       "      <td>90</td>\n",
       "      <td>0.742570</td>\n",
       "      <td>...</td>\n",
       "      <td>-0.000437</td>\n",
       "      <td>-0.002065</td>\n",
       "      <td>-0.999323</td>\n",
       "      <td>37.727922</td>\n",
       "      <td>0.811111</td>\n",
       "      <td>4-50-4_40x_cortex_1.tif</td>\n",
       "      <td>male</td>\n",
       "      <td>p14</td>\n",
       "      <td>4-50-4</td>\n",
       "      <td>non-treated control</td>\n",
       "    </tr>\n",
       "    <tr>\n",
       "      <td>3</td>\n",
       "      <td>76</td>\n",
       "      <td>4</td>\n",
       "      <td>7</td>\n",
       "      <td>14</td>\n",
       "      <td>19</td>\n",
       "      <td>120</td>\n",
       "      <td>9.026316</td>\n",
       "      <td>12.184211</td>\n",
       "      <td>93</td>\n",
       "      <td>0.699168</td>\n",
       "      <td>...</td>\n",
       "      <td>-0.001007</td>\n",
       "      <td>-0.001015</td>\n",
       "      <td>-1.203577</td>\n",
       "      <td>43.591883</td>\n",
       "      <td>0.817204</td>\n",
       "      <td>4-50-4_40x_cortex_1.tif</td>\n",
       "      <td>male</td>\n",
       "      <td>p14</td>\n",
       "      <td>4-50-4</td>\n",
       "      <td>non-treated control</td>\n",
       "    </tr>\n",
       "    <tr>\n",
       "      <td>4</td>\n",
       "      <td>81</td>\n",
       "      <td>8</td>\n",
       "      <td>21</td>\n",
       "      <td>19</td>\n",
       "      <td>33</td>\n",
       "      <td>132</td>\n",
       "      <td>13.061728</td>\n",
       "      <td>26.111111</td>\n",
       "      <td>91</td>\n",
       "      <td>0.525646</td>\n",
       "      <td>...</td>\n",
       "      <td>0.000027</td>\n",
       "      <td>-0.000098</td>\n",
       "      <td>-1.247603</td>\n",
       "      <td>34.556349</td>\n",
       "      <td>0.890110</td>\n",
       "      <td>4-50-4_40x_cortex_1.tif</td>\n",
       "      <td>male</td>\n",
       "      <td>p14</td>\n",
       "      <td>4-50-4</td>\n",
       "      <td>non-treated control</td>\n",
       "    </tr>\n",
       "    <tr>\n",
       "      <td>...</td>\n",
       "      <td>...</td>\n",
       "      <td>...</td>\n",
       "      <td>...</td>\n",
       "      <td>...</td>\n",
       "      <td>...</td>\n",
       "      <td>...</td>\n",
       "      <td>...</td>\n",
       "      <td>...</td>\n",
       "      <td>...</td>\n",
       "      <td>...</td>\n",
       "      <td>...</td>\n",
       "      <td>...</td>\n",
       "      <td>...</td>\n",
       "      <td>...</td>\n",
       "      <td>...</td>\n",
       "      <td>...</td>\n",
       "      <td>...</td>\n",
       "      <td>...</td>\n",
       "      <td>...</td>\n",
       "      <td>...</td>\n",
       "      <td>...</td>\n",
       "    </tr>\n",
       "    <tr>\n",
       "      <td>128</td>\n",
       "      <td>100</td>\n",
       "      <td>491</td>\n",
       "      <td>308</td>\n",
       "      <td>503</td>\n",
       "      <td>319</td>\n",
       "      <td>132</td>\n",
       "      <td>496.520000</td>\n",
       "      <td>313.190000</td>\n",
       "      <td>106</td>\n",
       "      <td>0.557040</td>\n",
       "      <td>...</td>\n",
       "      <td>0.000012</td>\n",
       "      <td>0.000155</td>\n",
       "      <td>0.315146</td>\n",
       "      <td>36.142136</td>\n",
       "      <td>0.943396</td>\n",
       "      <td>4-50-13_40x_thalamus_5.tif</td>\n",
       "      <td>male</td>\n",
       "      <td>p14</td>\n",
       "      <td>4-50-13</td>\n",
       "      <td>ogd 3 hours + SOD</td>\n",
       "    </tr>\n",
       "    <tr>\n",
       "      <td>129</td>\n",
       "      <td>80</td>\n",
       "      <td>494</td>\n",
       "      <td>397</td>\n",
       "      <td>505</td>\n",
       "      <td>406</td>\n",
       "      <td>99</td>\n",
       "      <td>498.987500</td>\n",
       "      <td>400.900000</td>\n",
       "      <td>87</td>\n",
       "      <td>0.680200</td>\n",
       "      <td>...</td>\n",
       "      <td>0.000039</td>\n",
       "      <td>-0.000168</td>\n",
       "      <td>-0.114205</td>\n",
       "      <td>33.556349</td>\n",
       "      <td>0.919540</td>\n",
       "      <td>4-50-13_40x_thalamus_5.tif</td>\n",
       "      <td>male</td>\n",
       "      <td>p14</td>\n",
       "      <td>4-50-13</td>\n",
       "      <td>ogd 3 hours + SOD</td>\n",
       "    </tr>\n",
       "    <tr>\n",
       "      <td>130</td>\n",
       "      <td>89</td>\n",
       "      <td>495</td>\n",
       "      <td>463</td>\n",
       "      <td>507</td>\n",
       "      <td>473</td>\n",
       "      <td>120</td>\n",
       "      <td>500.438202</td>\n",
       "      <td>467.460674</td>\n",
       "      <td>94</td>\n",
       "      <td>0.666259</td>\n",
       "      <td>...</td>\n",
       "      <td>0.000226</td>\n",
       "      <td>-0.000307</td>\n",
       "      <td>-0.325529</td>\n",
       "      <td>34.384776</td>\n",
       "      <td>0.946809</td>\n",
       "      <td>4-50-13_40x_thalamus_5.tif</td>\n",
       "      <td>male</td>\n",
       "      <td>p14</td>\n",
       "      <td>4-50-13</td>\n",
       "      <td>ogd 3 hours + SOD</td>\n",
       "    </tr>\n",
       "    <tr>\n",
       "      <td>131</td>\n",
       "      <td>95</td>\n",
       "      <td>498</td>\n",
       "      <td>14</td>\n",
       "      <td>508</td>\n",
       "      <td>27</td>\n",
       "      <td>130</td>\n",
       "      <td>502.873684</td>\n",
       "      <td>20.010526</td>\n",
       "      <td>100</td>\n",
       "      <td>0.779132</td>\n",
       "      <td>...</td>\n",
       "      <td>0.000599</td>\n",
       "      <td>-0.000747</td>\n",
       "      <td>-1.180466</td>\n",
       "      <td>36.142136</td>\n",
       "      <td>0.950000</td>\n",
       "      <td>4-50-13_40x_thalamus_5.tif</td>\n",
       "      <td>male</td>\n",
       "      <td>p14</td>\n",
       "      <td>4-50-13</td>\n",
       "      <td>ogd 3 hours + SOD</td>\n",
       "    </tr>\n",
       "    <tr>\n",
       "      <td>132</td>\n",
       "      <td>70</td>\n",
       "      <td>499</td>\n",
       "      <td>206</td>\n",
       "      <td>511</td>\n",
       "      <td>215</td>\n",
       "      <td>108</td>\n",
       "      <td>504.585714</td>\n",
       "      <td>210.614286</td>\n",
       "      <td>78</td>\n",
       "      <td>0.829838</td>\n",
       "      <td>...</td>\n",
       "      <td>-0.000771</td>\n",
       "      <td>0.001163</td>\n",
       "      <td>0.422197</td>\n",
       "      <td>32.727922</td>\n",
       "      <td>0.897436</td>\n",
       "      <td>4-50-13_40x_thalamus_5.tif</td>\n",
       "      <td>male</td>\n",
       "      <td>p14</td>\n",
       "      <td>4-50-13</td>\n",
       "      <td>ogd 3 hours + SOD</td>\n",
       "    </tr>\n",
       "  </tbody>\n",
       "</table>\n",
       "<p>36087 rows × 80 columns</p>\n",
       "</div>"
      ],
      "text/plain": [
       "     area  bbox-0  bbox-1  bbox-2  bbox-3  bbox_area  centroid-0  centroid-1  \\\n",
       "0      82       0      59      14      69        140    5.280488   63.548780   \n",
       "1     120       0      94      15     106        180    7.741667   99.516667   \n",
       "2      73       0     246       9     259        117    3.397260  250.849315   \n",
       "3      76       4       7      14      19        120    9.026316   12.184211   \n",
       "4      81       8      21      19      33        132   13.061728   26.111111   \n",
       "..    ...     ...     ...     ...     ...        ...         ...         ...   \n",
       "128   100     491     308     503     319        132  496.520000  313.190000   \n",
       "129    80     494     397     505     406         99  498.987500  400.900000   \n",
       "130    89     495     463     507     473        120  500.438202  467.460674   \n",
       "131    95     498      14     508      27        130  502.873684   20.010526   \n",
       "132    70     499     206     511     215        108  504.585714  210.614286   \n",
       "\n",
       "     convex_area  eccentricity  ...  moments_normalized-3-2  \\\n",
       "0            121      0.824525  ...                0.001036   \n",
       "1            143      0.639168  ...               -0.000616   \n",
       "2             90      0.742570  ...               -0.000437   \n",
       "3             93      0.699168  ...               -0.001007   \n",
       "4             91      0.525646  ...                0.000027   \n",
       "..           ...           ...  ...                     ...   \n",
       "128          106      0.557040  ...                0.000012   \n",
       "129           87      0.680200  ...                0.000039   \n",
       "130           94      0.666259  ...                0.000226   \n",
       "131          100      0.779132  ...                0.000599   \n",
       "132           78      0.829838  ...               -0.000771   \n",
       "\n",
       "     moments_normalized-3-3  orientation  perimeter  solidity  \\\n",
       "0                  0.001296     0.193280  47.834524  0.677686   \n",
       "1                 -0.000443    -0.341689  48.384776  0.839161   \n",
       "2                 -0.002065    -0.999323  37.727922  0.811111   \n",
       "3                 -0.001015    -1.203577  43.591883  0.817204   \n",
       "4                 -0.000098    -1.247603  34.556349  0.890110   \n",
       "..                      ...          ...        ...       ...   \n",
       "128                0.000155     0.315146  36.142136  0.943396   \n",
       "129               -0.000168    -0.114205  33.556349  0.919540   \n",
       "130               -0.000307    -0.325529  34.384776  0.946809   \n",
       "131               -0.000747    -1.180466  36.142136  0.950000   \n",
       "132                0.001163     0.422197  32.727922  0.897436   \n",
       "\n",
       "                       filename  pup_sex  pup_age   pup_id  \\\n",
       "0       4-50-4_40x_cortex_1.tif     male      p14   4-50-4   \n",
       "1       4-50-4_40x_cortex_1.tif     male      p14   4-50-4   \n",
       "2       4-50-4_40x_cortex_1.tif     male      p14   4-50-4   \n",
       "3       4-50-4_40x_cortex_1.tif     male      p14   4-50-4   \n",
       "4       4-50-4_40x_cortex_1.tif     male      p14   4-50-4   \n",
       "..                          ...      ...      ...      ...   \n",
       "128  4-50-13_40x_thalamus_5.tif     male      p14  4-50-13   \n",
       "129  4-50-13_40x_thalamus_5.tif     male      p14  4-50-13   \n",
       "130  4-50-13_40x_thalamus_5.tif     male      p14  4-50-13   \n",
       "131  4-50-13_40x_thalamus_5.tif     male      p14  4-50-13   \n",
       "132  4-50-13_40x_thalamus_5.tif     male      p14  4-50-13   \n",
       "\n",
       "         treatment_group  \n",
       "0    non-treated control  \n",
       "1    non-treated control  \n",
       "2    non-treated control  \n",
       "3    non-treated control  \n",
       "4    non-treated control  \n",
       "..                   ...  \n",
       "128    ogd 3 hours + SOD  \n",
       "129    ogd 3 hours + SOD  \n",
       "130    ogd 3 hours + SOD  \n",
       "131    ogd 3 hours + SOD  \n",
       "132    ogd 3 hours + SOD  \n",
       "\n",
       "[36087 rows x 80 columns]"
      ]
     },
     "execution_count": 94,
     "metadata": {},
     "output_type": "execute_result"
    }
   ],
   "source": [
    "df"
   ]
  },
  {
   "cell_type": "markdown",
   "metadata": {},
   "source": [
    "*Step 17: Saving as a CSV file*"
   ]
  },
  {
   "cell_type": "markdown",
   "metadata": {},
   "source": [
    "The following code saves the pandas dataframe as a CSV that you can open with other software.  It will be saved in whatever directory you opened jupyter notebook or jupyuter lab from"
   ]
  },
  {
   "cell_type": "code",
   "execution_count": 95,
   "metadata": {},
   "outputs": [],
   "source": [
    "df.to_csv(csv_name)"
   ]
  },
  {
   "cell_type": "markdown",
   "metadata": {},
   "source": [
    "Now, I want you to repeat this process for each treatment group folder. Then it is up to you to begin visualizing the features with respect to the treatment groups\n",
    "\n",
    "I recommend doing visualization in the following process:\n",
    "1. By Generalized treatment group. (NT vs Injured vs Injured with Treatment)\n",
    "2. By specific treatment groups (NT, OGD 0.5h, OGD 1.5h, OGD 3h ... etc)\n",
    "3. Group by generalized treatment group and region (You will need to reorganize folders for this or add some lines to the code to provide you region based on file name)\n",
    "4. Generally group regions without treatment group (hippocampus,  cortex, thalamus)\n",
    "5. Specific treatment groups by region\n",
    "\n",
    "And then in whatever way you were lead to based on your data"
   ]
  },
  {
   "cell_type": "markdown",
   "metadata": {},
   "source": [
    "*Step 18: Print dependencies*"
   ]
  },
  {
   "cell_type": "code",
   "execution_count": 96,
   "metadata": {},
   "outputs": [
    {
     "name": "stdout",
     "output_type": "stream",
     "text": [
      "Python implementation: CPython\n",
      "Python version       : 3.7.8\n",
      "IPython version      : 5.8.0\n",
      "\n",
      "numpy     : 1.17.2\n",
      "pandas    : 0.25.1\n",
      "scipy     : 1.3.1\n",
      "skimage   : 0.17.2\n",
      "matplotlib: 3.3.1\n",
      "wget      : 3.2\n",
      "\n",
      "Compiler    : Clang 11.0.0 \n",
      "OS          : Darwin\n",
      "Release     : 19.4.0\n",
      "Machine     : x86_64\n",
      "Processor   : i386\n",
      "CPU cores   : 8\n",
      "Architecture: 64bit\n",
      "\n",
      "Last updated: Fri Dec 04 2020 14:42:10MST\n",
      "\n"
     ]
    }
   ],
   "source": [
    "%load_ext watermark\n",
    "\n",
    "%watermark -v -m -p numpy,pandas,scipy,skimage,matplotlib,wget\n",
    "\n",
    "%watermark -u -n -t -z"
   ]
  },
  {
   "cell_type": "code",
   "execution_count": null,
   "metadata": {},
   "outputs": [],
   "source": []
  }
 ],
 "metadata": {
  "kernelspec": {
   "display_name": "Python 3",
   "language": "python",
   "name": "python3"
  },
  "language_info": {
   "codemirror_mode": {
    "name": "ipython",
    "version": 3
   },
   "file_extension": ".py",
   "mimetype": "text/x-python",
   "name": "python",
   "nbconvert_exporter": "python",
   "pygments_lexer": "ipython3",
   "version": "3.8.8"
  }
 },
 "nbformat": 4,
 "nbformat_minor": 4
}
